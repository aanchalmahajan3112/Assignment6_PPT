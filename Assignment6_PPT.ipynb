{
  "nbformat": 4,
  "nbformat_minor": 0,
  "metadata": {
    "colab": {
      "provenance": []
    },
    "kernelspec": {
      "name": "python3",
      "display_name": "Python 3"
    },
    "language_info": {
      "name": "python"
    }
  },
  "cells": [
    {
      "cell_type": "code",
      "execution_count": 10,
      "metadata": {
        "colab": {
          "base_uri": "https://localhost:8080/"
        },
        "id": "LLUjOt53a-J0",
        "outputId": "0b95b4d8-9075-41ac-8148-9e4d3210a2a8"
      },
      "outputs": [
        {
          "output_type": "stream",
          "name": "stdout",
          "text": [
            "[0, 4, 1, 3, 2]\n"
          ]
        }
      ],
      "source": [
        "# 💡 **Question 1**\n",
        "\n",
        "# A permutation perm of n + 1 integers of all the integers in the range [0, n] can be represented as a string s of length n where:\n",
        "\n",
        "# - s[i] == 'I' if perm[i] < perm[i + 1], and\n",
        "# - s[i] == 'D' if perm[i] > perm[i + 1].\n",
        "\n",
        "# Given a string s, reconstruct the permutation perm and return it. If there are multiple valid permutations perm, return **any of them**.\n",
        "\n",
        "# **Example 1:**\n",
        "\n",
        "# **Input:** s = \"IDID\"\n",
        "\n",
        "# **Output:**\n",
        "\n",
        "# [0,4,1,3,2]\n",
        "\n",
        "\n",
        "\n",
        "def findPermutation(s):\n",
        "    n = len(s)\n",
        "    perm = []\n",
        "    start, end = 0, n\n",
        "\n",
        "    for c in s:\n",
        "        if c == 'I':\n",
        "            perm.append(start)\n",
        "            start += 1\n",
        "        elif c == 'D':\n",
        "            perm.append(end)\n",
        "            end -= 1\n",
        "\n",
        "    perm.append(start)  # or perm.append(end)\n",
        "\n",
        "    return perm\n",
        "\n",
        "s = \"IDID\"\n",
        "perm = findPermutation(s)\n",
        "print(perm)\n"
      ]
    },
    {
      "cell_type": "code",
      "source": [
        "\n",
        "# 💡 **Question 2**\n",
        "\n",
        "# You are given an m x n integer matrix matrix with the following two properties:\n",
        "\n",
        "# - Each row is sorted in non-decreasing order.\n",
        "# - The first integer of each row is greater than the last integer of the previous row.\n",
        "\n",
        "# Given an integer target, return true *if* target *is in* matrix *or* false *otherwise*.\n",
        "\n",
        "# You must write a solution in O(log(m * n)) time complexity.\n",
        "\n",
        "# **Example 1:**\n",
        "\n",
        "# **Input:** matrix = [[1,3,5,7],[10,11,16,20],[23,30,34,60]], target = 3\n",
        "\n",
        "# **Output:** true\n",
        "\n",
        "\n",
        "\n",
        "def searchMatrix(matrix, target):\n",
        "    m = len(matrix)\n",
        "    n = len(matrix[0])\n",
        "\n",
        "    left = 0\n",
        "    right = m * n - 1\n",
        "\n",
        "    while left <= right:\n",
        "        mid = (left + right) // 2\n",
        "        row = mid // n\n",
        "        col = mid % n\n",
        "\n",
        "        if matrix[row][col] == target:\n",
        "            return True\n",
        "        elif matrix[row][col] < target:\n",
        "            left = mid + 1\n",
        "        else:\n",
        "            right = mid - 1\n",
        "\n",
        "    return False\n",
        "\n",
        "matrix = [\n",
        "    [1, 3, 5, 7],\n",
        "    [10, 11, 16, 20],\n",
        "    [23, 30, 34, 60]\n",
        "]\n",
        "target = 3\n",
        "\n",
        "result = searchMatrix(matrix, target)\n",
        "print(result)\n"
      ],
      "metadata": {
        "colab": {
          "base_uri": "https://localhost:8080/"
        },
        "id": "VxkMslmpbwj2",
        "outputId": "04ad4d17-75d6-4333-f5f0-e6a84e5ff90e"
      },
      "execution_count": 11,
      "outputs": [
        {
          "output_type": "stream",
          "name": "stdout",
          "text": [
            "True\n"
          ]
        }
      ]
    },
    {
      "cell_type": "code",
      "source": [
        "# 💡 **Question 3**\n",
        "\n",
        "# Given an array of integers arr, return *true if and only if it is a valid mountain array*.\n",
        "\n",
        "# Recall that arr is a mountain array if and only if:\n",
        "\n",
        "# - arr.length >= 3\n",
        "# - There exists some i with 0 < i < arr.length - 1 such that:\n",
        "#     - arr[0] < arr[1] < ... < arr[i - 1] < arr[i]\n",
        "#     - arr[i] > arr[i + 1] > ... > arr[arr.length - 1]\n",
        "# **Example 1:**\n",
        "\n",
        "# **Input:** arr = [2,1]\n",
        "\n",
        "# **Output:**\n",
        "\n",
        "# false\n",
        "\n",
        "\n",
        "def validMountainArray(arr):\n",
        "    n = len(arr)\n",
        "    \n",
        "    if n < 3:\n",
        "        return False\n",
        "    \n",
        "    peak = -1\n",
        "    \n",
        "    for i in range(1, n-1):\n",
        "        if arr[i] > arr[i-1] and arr[i] > arr[i+1]:\n",
        "            peak = i\n",
        "            break\n",
        "    \n",
        "    if peak == -1 or peak == 0 or peak == n-1:\n",
        "        return False\n",
        "    \n",
        "    for i in range(1, peak):\n",
        "        if arr[i] <= arr[i-1]:\n",
        "            return False\n",
        "    \n",
        "    for i in range(peak, n-1):\n",
        "        if arr[i] >= arr[i+1]:\n",
        "            return False\n",
        "    \n",
        "    return True\n",
        "\n",
        "arr = [2, 1]\n",
        "result = validMountainArray(arr)\n",
        "print(result)\n"
      ],
      "metadata": {
        "colab": {
          "base_uri": "https://localhost:8080/"
        },
        "id": "PvyhbOzhcJkn",
        "outputId": "e590f749-2c21-4fb7-c359-9ed15d5c0877"
      },
      "execution_count": 12,
      "outputs": [
        {
          "output_type": "stream",
          "name": "stdout",
          "text": [
            "False\n"
          ]
        }
      ]
    },
    {
      "cell_type": "code",
      "source": [
        "\n",
        "# 💡 **Question 4**\n",
        "\n",
        "# Given a binary array nums, return *the maximum length of a contiguous subarray with an equal number of* 0 *and* 1.\n",
        "\n",
        "# **Example 1:**\n",
        "\n",
        "# **Input:** nums = [0,1]\n",
        "\n",
        "# **Output:** 2\n",
        "\n",
        "# **Explanation:**\n",
        "\n",
        "# [0, 1] is the longest contiguous subarray with an equal number of 0 and 1.\n",
        "\n",
        "\n",
        "\n",
        "def findMaxLength(nums):\n",
        "    max_length = 0\n",
        "    count = 0\n",
        "    count_dict = {0: -1}\n",
        "\n",
        "    for i in range(len(nums)):\n",
        "        count += 1 if nums[i] == 1 else -1\n",
        "\n",
        "        if count in count_dict:\n",
        "            max_length = max(max_length, i - count_dict[count])\n",
        "        else:\n",
        "            count_dict[count] = i\n",
        "\n",
        "    return max_length\n",
        "\n",
        "nums = [0, 1]\n",
        "result = findMaxLength(nums)\n",
        "print(result)\n",
        "\n"
      ],
      "metadata": {
        "colab": {
          "base_uri": "https://localhost:8080/"
        },
        "id": "Xht9LOuOcmGv",
        "outputId": "f82d376c-732a-4eea-e1ea-731529f79fd7"
      },
      "execution_count": 13,
      "outputs": [
        {
          "output_type": "stream",
          "name": "stdout",
          "text": [
            "2\n"
          ]
        }
      ]
    },
    {
      "cell_type": "code",
      "source": [
        "\n",
        "# 💡 **Question 5**\n",
        "\n",
        "# The **product sum** of two equal-length arrays a and b is equal to the sum of a[i] * b[i] for all 0 <= i < a.length (**0-indexed**).\n",
        "\n",
        "# - For example, if a = [1,2,3,4] and b = [5,2,3,1], the **product sum** would be 1*5 + 2*2 + 3*3 + 4*1 = 22.\n",
        "\n",
        "# Given two arrays nums1 and nums2 of length n, return *the **minimum product sum** if you are allowed to **rearrange** the **order** of the elements in* nums1.\n",
        "\n",
        "# **Example 1:**\n",
        "\n",
        "# **Input:** nums1 = [5,3,4,2], nums2 = [4,2,2,5]\n",
        "\n",
        "# **Output:** 40\n",
        "\n",
        "# **Explanation:**\n",
        "\n",
        "# We can rearrange nums1 to become [3,5,4,2]. The product sum of [3,5,4,2] and [4,2,2,5] is 3*4 + 5*2 + 4*2 + 2*5 = 40.\n",
        "\n",
        "\n",
        "\n",
        "def minProductSum(nums1, nums2):\n",
        "    nums1.sort()\n",
        "    nums2.sort(reverse=True)\n",
        "\n",
        "    min_product_sum = float('inf')\n",
        "    n = len(nums1)\n",
        "\n",
        "    for i in range(n):\n",
        "        product_sum = 0\n",
        "        for j in range(n):\n",
        "            product_sum += nums1[j] * nums2[j]\n",
        "        min_product_sum = min(min_product_sum, product_sum)\n",
        "\n",
        "        # Rotate the arrays for the next iteration\n",
        "        nums1.append(nums1.pop(0))\n",
        "        nums2.append(nums2.pop(0))\n",
        "\n",
        "    return min_product_sum\n",
        "\n",
        "nums1 = [5, 3, 4, 2]\n",
        "nums2 = [4, 2, 2, 5]\n",
        "result = minProductSum(nums1, nums2)\n",
        "print(result)\n"
      ],
      "metadata": {
        "colab": {
          "base_uri": "https://localhost:8080/"
        },
        "id": "EZYq_MM6cyK0",
        "outputId": "45cd0902-eac6-40b4-ec1c-25f6dfd0ee96"
      },
      "execution_count": 14,
      "outputs": [
        {
          "output_type": "stream",
          "name": "stdout",
          "text": [
            "40\n"
          ]
        }
      ]
    },
    {
      "cell_type": "code",
      "source": [
        "\n",
        "# 💡 **Question 6**\n",
        "\n",
        "# An integer array original is transformed into a **doubled** array changed by appending **twice the value** of every element in original, and then randomly **shuffling** the resulting array.\n",
        "\n",
        "# Given an array changed, return original *if* changed *is a **doubled** array. If* changed *is not a **doubled** array, return an empty array. The elements in* original *may be returned in **any** order*.\n",
        "\n",
        "# **Example 1:**\n",
        "\n",
        "# **Input:** changed = [1,3,4,2,6,8]\n",
        "\n",
        "# **Output:** [1,3,4]\n",
        "\n",
        "# **Explanation:** One possible original array could be [1,3,4]:\n",
        "\n",
        "# - Twice the value of 1 is 1 * 2 = 2.\n",
        "# - Twice the value of 3 is 3 * 2 = 6.\n",
        "# - Twice the value of 4 is 4 * 2 = 8.\n",
        "\n",
        "# Other original arrays could be [4,3,1] or [3,1,4].\n",
        "\n",
        "\n",
        "\n",
        "from collections import defaultdict\n",
        "\n",
        "def findOriginalArray(changed):\n",
        "    sorted_changed = sorted(changed)\n",
        "    original = []\n",
        "    freq = defaultdict(int)\n",
        "\n",
        "    for num in sorted_changed:\n",
        "        freq[num] += 1\n",
        "\n",
        "    for num in sorted_changed:\n",
        "        if freq[num] == 0:\n",
        "            continue\n",
        "\n",
        "        if num == 0 and freq[num] % 2 != 0:\n",
        "            return []\n",
        "\n",
        "        freq[num] -= 1\n",
        "\n",
        "        if freq[2 * num] == 0:\n",
        "            return []\n",
        "\n",
        "        freq[2 * num] -= 1\n",
        "        original.append(num)\n",
        "\n",
        "    if all(freq[num] == 0 for num in original):\n",
        "        return original\n",
        "    else:\n",
        "        return []\n",
        "\n",
        "changed = [1, 3, 4, 2, 6, 8]\n",
        "result = findOriginalArray(changed)\n",
        "print(result)\n",
        "\n"
      ],
      "metadata": {
        "colab": {
          "base_uri": "https://localhost:8080/"
        },
        "id": "Oz1PhQe5dJwD",
        "outputId": "7f311626-8139-4158-8e4a-872d77d2b165"
      },
      "execution_count": 16,
      "outputs": [
        {
          "output_type": "stream",
          "name": "stdout",
          "text": [
            "[1, 3, 4]\n"
          ]
        }
      ]
    },
    {
      "cell_type": "code",
      "source": [
        "\n",
        "# 💡 **Question 7**\n",
        "\n",
        "# Given a positive integer n, generate an n x n matrix filled with elements from 1 to n2 in spiral order.\n",
        "\n",
        "# **Example 1:**\n",
        "\n",
        "# **Input:** n = 3\n",
        "\n",
        "# **Output:** [[1,2,3],[8,9,4],[7,6,5]]\n",
        "\n",
        "\n",
        "\n",
        "def generateMatrix(n):\n",
        "    matrix = [[0] * n for _ in range(n)]\n",
        "    num = 1\n",
        "    top = 0\n",
        "    bottom = n - 1\n",
        "    left = 0\n",
        "    right = n - 1\n",
        "\n",
        "    while num <= n * n:\n",
        "        # Fill top row\n",
        "        for i in range(left, right + 1):\n",
        "            matrix[top][i] = num\n",
        "            num += 1\n",
        "        top += 1\n",
        "\n",
        "        # Fill rightmost column\n",
        "        for i in range(top, bottom + 1):\n",
        "            matrix[i][right] = num\n",
        "            num += 1\n",
        "        right -= 1\n",
        "\n",
        "        # Fill bottom row\n",
        "        for i in range(right, left - 1, -1):\n",
        "            matrix[bottom][i] = num\n",
        "            num += 1\n",
        "        bottom -= 1\n",
        "\n",
        "        # Fill leftmost column\n",
        "        for i in range(bottom, top - 1, -1):\n",
        "            matrix[i][left] = num\n",
        "            num += 1\n",
        "        left += 1\n",
        "\n",
        "    return matrix\n",
        "\n",
        "n = 3\n",
        "result = generateMatrix(n)\n",
        "print(result)\n"
      ],
      "metadata": {
        "colab": {
          "base_uri": "https://localhost:8080/"
        },
        "id": "7nqS_yqXdnhS",
        "outputId": "47b4d251-2937-4b08-e7e9-e341d371b1e4"
      },
      "execution_count": 17,
      "outputs": [
        {
          "output_type": "stream",
          "name": "stdout",
          "text": [
            "[[1, 2, 3], [8, 9, 4], [7, 6, 5]]\n"
          ]
        }
      ]
    },
    {
      "cell_type": "code",
      "source": [
        "\n",
        "# 💡 **Question 8**\n",
        "\n",
        "# Given two [sparse matrices](https://en.wikipedia.org/wiki/Sparse_matrix) mat1 of size m x k and mat2 of size k x n, return the result of mat1 x mat2. You may assume that multiplication is always possible.\n",
        "\n",
        "# **Example 1:**\n",
        "\n",
        "# **Input:** mat1 = [[1,0,0],[-1,0,3]], mat2 = [[7,0,0],[0,0,0],[0,0,1]]\n",
        "\n",
        "# **Output:**\n",
        "\n",
        "# [[7,0,0],[-7,0,3]]\n",
        "\n",
        "\n",
        "\n",
        "def multiply(mat1, mat2):\n",
        "    m, k = len(mat1), len(mat1[0])\n",
        "    k, n = len(mat2), len(mat2[0])\n",
        "\n",
        "    result = [[0] * n for _ in range(m)]\n",
        "\n",
        "    for i in range(m):\n",
        "        for j in range(n):\n",
        "            temp = 0\n",
        "            for x in range(k):\n",
        "                temp += mat1[i][x] * mat2[x][j]\n",
        "            if temp != 0:\n",
        "                result[i][j] = temp\n",
        "\n",
        "    return result\n",
        "\n",
        "mat1 = [[1, 0, 0], [-1, 0, 3]]\n",
        "mat2 = [[7, 0, 0], [0, 0, 0], [0, 0, 1]]\n",
        "result = multiply(mat1, mat2)\n",
        "print(result)\n"
      ],
      "metadata": {
        "colab": {
          "base_uri": "https://localhost:8080/"
        },
        "id": "cwAxNquSfZ2a",
        "outputId": "f0eb21b2-fabd-4d29-8aae-79c3cedb7d43"
      },
      "execution_count": 18,
      "outputs": [
        {
          "output_type": "stream",
          "name": "stdout",
          "text": [
            "[[7, 0, 0], [-7, 0, 3]]\n"
          ]
        }
      ]
    }
  ]
}